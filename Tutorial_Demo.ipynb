{
 "cells": [
  {
   "cell_type": "markdown",
   "id": "structural-bradley",
   "metadata": {},
   "source": [
    "# PyGMData\n",
    "\n",
    "Welcome to the PyGMData tutorial!\n",
    "\n",
    "PyGMData is a Python SDK to interface with the Grey Matter Data API. It has the ability to do things like:\n",
    "\n",
    "- Stream files directly to/from memory (both download and upload)\n",
    "- Upload and download files from/to disk\n",
    "- Handle impersonation and TLS connections\n",
    "- File appends in Data (both from files on disk and memory)\n",
    "- Internal logging, both to standard out and to a file\n",
    "\n"
   ]
  },
  {
   "cell_type": "markdown",
   "id": "chemical-premises",
   "metadata": {},
   "source": [
    "## Setup\n",
    "\n",
    "First start by importing the library. This is a normal python library and can be used just the same as any other.\n",
    "\n",
    "Then make the pygmdata object to interface with Grey Matter Data. This takes the base URL that Data lives at. Optional parameters can be supplied as well. Currently these are supported:\n",
    "\n",
    "- `USER_DN` - Used for user impersonation. This is used for every transaction if specified. This can be changed later if needed.\n",
    "- `logfile` - Will ouput logs to a file if specified\n",
    "- `log_level` - Level of verbosity to log, defaults to warnings\n",
    "- `security` - The default security policy to use. This can be overidden when writing files. If not specified it will use:\n",
    "    ```Python\n",
    "        {\"label\": \"DECIPHER//GMDATA\",\n",
    "         \"foreground\": \"#FFFFFF\",\n",
    "         \"background\": \"green\"}\n",
    "    ```\n",
    "- `cert` - Certificate to use in pem format.\n",
    "- `key` - keyfile to use in pem format.\n",
    "- `trust` - CA trust to use to make TLS connections.\n",
    "- `repopulate` - A hack to get around changes that may have happened\n",
    "    in Data between file uploads and hierarchy updates"
   ]
  },
  {
   "cell_type": "code",
   "execution_count": 1,
   "id": "formed-people",
   "metadata": {},
   "outputs": [],
   "source": [
    "from pygmdata import pygmdata\n",
    "\n",
    "# set a DN that has permissions to do things in Data\n",
    "d = pygmdata.Data(\"http://localhost:8181\",\n",
    "                  USER_DN='CN=dave.borncamp,OU=Engineering,O=Untrusted Example,L=Baltimore,ST=MD,C=US')"
   ]
  },
  {
   "cell_type": "markdown",
   "id": "faced-tiffany",
   "metadata": {},
   "source": [
    "### Create Home Directory\n",
    "\n",
    "To start, most users will be writing to their home directory and by default it is not created for us. The PyGMData SDK has pre-built functions to create it for whatever user/imersonation is interacting with Data.\n",
    "\n",
    "Custom Object Policies can be used for creating any directory."
   ]
  },
  {
   "cell_type": "code",
   "execution_count": 2,
   "id": "existing-donor",
   "metadata": {},
   "outputs": [
    {
     "data": {
      "text/plain": [
       "'166abfcc09a4beb8'"
      ]
     },
     "execution_count": 2,
     "metadata": {},
     "output_type": "execute_result"
    }
   ],
   "source": [
    "import json\n",
    "\n",
    "op = '''{\\\"label\\\":\\\"email match\\\",\\\"requirements\\\":{\\\"f\\\":\\\"if\\\",\\\"a\\\":\n",
    "[{\\\"f\\\":\\\"contains\\\",\\\"a\\\":[{\\\"v\\\":\\\"email\\\"},{\\\"v\\\":\\\"dave.borncamp@greymatter.io\\\"}]},{\\\"f\\\":\\\"yield-all\\\"},\n",
    "{\\\"f\\\":\\\"yield\\\",\\\"a\\\":[{\\\"v\\\":\\\"R\\\"},{\\\"v\\\":\\\"X\\\"}]}]}}'''\n",
    "\n",
    "d.get_self_identify(object_policy=json.loads(op))"
   ]
  },
  {
   "cell_type": "markdown",
   "id": "conscious-identification",
   "metadata": {},
   "source": [
    "## Writing to GM Data"
   ]
  },
  {
   "cell_type": "markdown",
   "id": "liquid-retirement",
   "metadata": {},
   "source": [
    "### Writing to Data\n",
    "\n",
    "Now that we have a home directory, lets start writing data into it. We'll start by uploading a file to Data from Disk"
   ]
  },
  {
   "cell_type": "code",
   "execution_count": 3,
   "id": "becoming-moscow",
   "metadata": {},
   "outputs": [
    {
     "data": {
      "text/plain": [
       "True"
      ]
     },
     "execution_count": 3,
     "metadata": {},
     "output_type": "execute_result"
    }
   ],
   "source": [
    "d.upload_file(\"requirements.txt\", \"/world/dave.borncamp@greymatter.io/requirements.txt\")"
   ]
  },
  {
   "cell_type": "markdown",
   "id": "micro-blair",
   "metadata": {},
   "source": [
    "The text file containing the requirements for pygmdata library should now be in Data!\n",
    "\n",
    "Lets try writing a file and streaming the contents from memory starting with a string.\n",
    "Normally streaming to data would take an IO buffer, but there is a convience method for uploading strings."
   ]
  },
  {
   "cell_type": "code",
   "execution_count": 4,
   "id": "practical-reducing",
   "metadata": {},
   "outputs": [
    {
     "data": {
      "text/plain": [
       "True"
      ]
     },
     "execution_count": 4,
     "metadata": {},
     "output_type": "execute_result"
    }
   ],
   "source": [
    "upload_text = \"\"\"This is a sample of text that is a string in memory.\n",
    "It was uploaded with pygmdata.\n",
    "\"\"\"\n",
    "\n",
    "d.stream_upload_string(upload_text, '/world/dave.borncamp@greymatter.io/DemoUpload.txt')"
   ]
  },
  {
   "cell_type": "markdown",
   "id": "empty-isolation",
   "metadata": {},
   "source": [
    "Now, lets try uploading some more interesting files like a Pandas DataFrame"
   ]
  },
  {
   "cell_type": "code",
   "execution_count": 5,
   "id": "robust-administrator",
   "metadata": {},
   "outputs": [
    {
     "data": {
      "text/html": [
       "<div>\n",
       "<style scoped>\n",
       "    .dataframe tbody tr th:only-of-type {\n",
       "        vertical-align: middle;\n",
       "    }\n",
       "\n",
       "    .dataframe tbody tr th {\n",
       "        vertical-align: top;\n",
       "    }\n",
       "\n",
       "    .dataframe thead th {\n",
       "        text-align: right;\n",
       "    }\n",
       "</style>\n",
       "<table border=\"1\" class=\"dataframe\">\n",
       "  <thead>\n",
       "    <tr style=\"text-align: right;\">\n",
       "      <th></th>\n",
       "      <th>name</th>\n",
       "      <th>city</th>\n",
       "      <th>age</th>\n",
       "      <th>py-score</th>\n",
       "    </tr>\n",
       "  </thead>\n",
       "  <tbody>\n",
       "    <tr>\n",
       "      <th>1</th>\n",
       "      <td>Xavier</td>\n",
       "      <td>Mexico City</td>\n",
       "      <td>41</td>\n",
       "      <td>88.0</td>\n",
       "    </tr>\n",
       "    <tr>\n",
       "      <th>2</th>\n",
       "      <td>Ann</td>\n",
       "      <td>Toronto</td>\n",
       "      <td>28</td>\n",
       "      <td>79.0</td>\n",
       "    </tr>\n",
       "    <tr>\n",
       "      <th>3</th>\n",
       "      <td>Jana</td>\n",
       "      <td>Prague</td>\n",
       "      <td>33</td>\n",
       "      <td>81.0</td>\n",
       "    </tr>\n",
       "    <tr>\n",
       "      <th>4</th>\n",
       "      <td>Yi</td>\n",
       "      <td>Shanghai</td>\n",
       "      <td>34</td>\n",
       "      <td>80.0</td>\n",
       "    </tr>\n",
       "    <tr>\n",
       "      <th>5</th>\n",
       "      <td>Robin</td>\n",
       "      <td>Manchester</td>\n",
       "      <td>38</td>\n",
       "      <td>68.0</td>\n",
       "    </tr>\n",
       "  </tbody>\n",
       "</table>\n",
       "</div>"
      ],
      "text/plain": [
       "     name         city  age  py-score\n",
       "1  Xavier  Mexico City   41      88.0\n",
       "2     Ann      Toronto   28      79.0\n",
       "3    Jana       Prague   33      81.0\n",
       "4      Yi     Shanghai   34      80.0\n",
       "5   Robin   Manchester   38      68.0"
      ]
     },
     "execution_count": 5,
     "metadata": {},
     "output_type": "execute_result"
    }
   ],
   "source": [
    "import pandas as pd\n",
    "\n",
    "data = {\n",
    "    'name': ['Xavier', 'Ann', 'Jana', 'Yi', 'Robin', 'Amal', 'Nori'],\n",
    "    'city': ['Mexico City', 'Toronto', 'Prague', 'Shanghai',\n",
    "             'Manchester', 'Cairo', 'Osaka'],\n",
    "    'age': [41, 28, 33, 34, 38, 31, 37],\n",
    "    'py-score': [88.0, 79.0, 81.0, 80.0, 68.0, 61.0, 84.0]\n",
    "}\n",
    "\n",
    "row_labels = [1, 2, 3, 4, 5, 6, 7]\n",
    "\n",
    "df = pd.DataFrame(data=data, index=row_labels)\n",
    "df.head()"
   ]
  },
  {
   "cell_type": "markdown",
   "id": "assigned-component",
   "metadata": {},
   "source": [
    "And now actually send it by making a buffer and converting it to a .csv and sending that output to Data"
   ]
  },
  {
   "cell_type": "code",
   "execution_count": 6,
   "id": "caroline-trailer",
   "metadata": {},
   "outputs": [
    {
     "data": {
      "text/plain": [
       "True"
      ]
     },
     "execution_count": 6,
     "metadata": {},
     "output_type": "execute_result"
    }
   ],
   "source": [
    "import io\n",
    "\n",
    "text_stream = io.StringIO()\n",
    "\n",
    "df.to_csv(text_stream)\n",
    "\n",
    "d.stream_upload(text_stream, \"/world/dave.borncamp@greymatter.io/testDataFrame.csv\")"
   ]
  },
  {
   "cell_type": "markdown",
   "id": "prime-consultancy",
   "metadata": {},
   "source": [
    "### Append to a file\n",
    "\n",
    "We can also append to existing files. This could be useful for adding to logs in Data. Also useful for asynchronyous writes from multiple places."
   ]
  },
  {
   "cell_type": "code",
   "execution_count": 9,
   "id": "early-dayton",
   "metadata": {},
   "outputs": [
    {
     "name": "stderr",
     "output_type": "stream",
     "text": [
      "2021-03-09 11:36:28,305 - pygmdata - INFO - No original object policy found.\n"
     ]
    },
    {
     "name": "stdout",
     "output_type": "stream",
     "text": [
      "Appending: 0\n",
      "2021-03-09 11:36:28,305 - pygmdata - INFO - No original object policy found.\n",
      "2021-03-09 11:36:28,305 - pygmdata - INFO - No original object policy found.\n"
     ]
    },
    {
     "name": "stderr",
     "output_type": "stream",
     "text": [
      "2021-03-09 11:36:30,703 - pygmdata - INFO - No original object policy found.\n"
     ]
    },
    {
     "name": "stdout",
     "output_type": "stream",
     "text": [
      "Appending: 1\n",
      "2021-03-09 11:36:30,703 - pygmdata - INFO - No original object policy found.\n",
      "2021-03-09 11:36:30,703 - pygmdata - INFO - No original object policy found.\n"
     ]
    },
    {
     "name": "stderr",
     "output_type": "stream",
     "text": [
      "2021-03-09 11:36:33,071 - pygmdata - INFO - No original object policy found.\n"
     ]
    },
    {
     "name": "stdout",
     "output_type": "stream",
     "text": [
      "Appending: 2\n",
      "2021-03-09 11:36:33,071 - pygmdata - INFO - No original object policy found.\n",
      "2021-03-09 11:36:33,071 - pygmdata - INFO - No original object policy found.\n"
     ]
    },
    {
     "name": "stderr",
     "output_type": "stream",
     "text": [
      "2021-03-09 11:36:35,434 - pygmdata - INFO - No original object policy found.\n"
     ]
    },
    {
     "name": "stdout",
     "output_type": "stream",
     "text": [
      "Appending: 3\n",
      "2021-03-09 11:36:35,434 - pygmdata - INFO - No original object policy found.\n",
      "2021-03-09 11:36:35,434 - pygmdata - INFO - No original object policy found.\n",
      "Appending: 4\n"
     ]
    },
    {
     "name": "stderr",
     "output_type": "stream",
     "text": [
      "2021-03-09 11:36:37,822 - pygmdata - INFO - No original object policy found.\n"
     ]
    },
    {
     "name": "stdout",
     "output_type": "stream",
     "text": [
      "2021-03-09 11:36:37,822 - pygmdata - INFO - No original object policy found.\n",
      "2021-03-09 11:36:37,822 - pygmdata - INFO - No original object policy found.\n"
     ]
    },
    {
     "name": "stderr",
     "output_type": "stream",
     "text": [
      "2021-03-09 11:36:40,260 - pygmdata - INFO - No original object policy found.\n"
     ]
    },
    {
     "name": "stdout",
     "output_type": "stream",
     "text": [
      "Appending: 5\n",
      "2021-03-09 11:36:40,260 - pygmdata - INFO - No original object policy found.\n",
      "2021-03-09 11:36:40,260 - pygmdata - INFO - No original object policy found.\n",
      "Appending: 6\n"
     ]
    },
    {
     "name": "stderr",
     "output_type": "stream",
     "text": [
      "2021-03-09 11:36:42,639 - pygmdata - INFO - No original object policy found.\n"
     ]
    },
    {
     "name": "stdout",
     "output_type": "stream",
     "text": [
      "2021-03-09 11:36:42,639 - pygmdata - INFO - No original object policy found.\n",
      "2021-03-09 11:36:42,639 - pygmdata - INFO - No original object policy found.\n",
      "Appending: 7\n"
     ]
    },
    {
     "name": "stderr",
     "output_type": "stream",
     "text": [
      "2021-03-09 11:36:45,017 - pygmdata - INFO - No original object policy found.\n"
     ]
    },
    {
     "name": "stdout",
     "output_type": "stream",
     "text": [
      "2021-03-09 11:36:45,017 - pygmdata - INFO - No original object policy found.\n",
      "2021-03-09 11:36:45,017 - pygmdata - INFO - No original object policy found.\n"
     ]
    },
    {
     "name": "stderr",
     "output_type": "stream",
     "text": [
      "2021-03-09 11:36:47,389 - pygmdata - INFO - No original object policy found.\n"
     ]
    },
    {
     "name": "stdout",
     "output_type": "stream",
     "text": [
      "Appending: 8\n",
      "2021-03-09 11:36:47,389 - pygmdata - INFO - No original object policy found.\n",
      "2021-03-09 11:36:47,389 - pygmdata - INFO - No original object policy found.\n"
     ]
    },
    {
     "name": "stderr",
     "output_type": "stream",
     "text": [
      "2021-03-09 11:36:49,755 - pygmdata - INFO - No original object policy found.\n"
     ]
    },
    {
     "name": "stdout",
     "output_type": "stream",
     "text": [
      "Appending: 9\n",
      "2021-03-09 11:36:49,755 - pygmdata - INFO - No original object policy found.\n",
      "2021-03-09 11:36:49,755 - pygmdata - INFO - No original object policy found.\n",
      "Appending: 10\n"
     ]
    },
    {
     "name": "stderr",
     "output_type": "stream",
     "text": [
      "2021-03-09 11:36:52,136 - pygmdata - INFO - No original object policy found.\n"
     ]
    },
    {
     "name": "stdout",
     "output_type": "stream",
     "text": [
      "2021-03-09 11:36:52,136 - pygmdata - INFO - No original object policy found.\n",
      "2021-03-09 11:36:52,136 - pygmdata - INFO - No original object policy found.\n"
     ]
    },
    {
     "name": "stderr",
     "output_type": "stream",
     "text": [
      "2021-03-09 11:36:54,529 - pygmdata - INFO - No original object policy found.\n"
     ]
    },
    {
     "name": "stdout",
     "output_type": "stream",
     "text": [
      "Appending: 11\n",
      "2021-03-09 11:36:54,529 - pygmdata - INFO - No original object policy found.\n",
      "2021-03-09 11:36:54,529 - pygmdata - INFO - No original object policy found.\n"
     ]
    },
    {
     "name": "stderr",
     "output_type": "stream",
     "text": [
      "2021-03-09 11:36:56,901 - pygmdata - INFO - No original object policy found.\n"
     ]
    },
    {
     "name": "stdout",
     "output_type": "stream",
     "text": [
      "Appending: 12\n",
      "2021-03-09 11:36:56,901 - pygmdata - INFO - No original object policy found.\n",
      "2021-03-09 11:36:56,901 - pygmdata - INFO - No original object policy found.\n"
     ]
    },
    {
     "name": "stderr",
     "output_type": "stream",
     "text": [
      "2021-03-09 11:36:59,286 - pygmdata - INFO - No original object policy found.\n"
     ]
    },
    {
     "name": "stdout",
     "output_type": "stream",
     "text": [
      "Appending: 13\n",
      "2021-03-09 11:36:59,286 - pygmdata - INFO - No original object policy found.\n",
      "2021-03-09 11:36:59,286 - pygmdata - INFO - No original object policy found.\n",
      "Appending: 14\n"
     ]
    },
    {
     "name": "stderr",
     "output_type": "stream",
     "text": [
      "2021-03-09 11:37:01,666 - pygmdata - INFO - No original object policy found.\n"
     ]
    },
    {
     "name": "stdout",
     "output_type": "stream",
     "text": [
      "2021-03-09 11:37:01,666 - pygmdata - INFO - No original object policy found.\n",
      "2021-03-09 11:37:01,666 - pygmdata - INFO - No original object policy found.\n"
     ]
    },
    {
     "name": "stderr",
     "output_type": "stream",
     "text": [
      "2021-03-09 11:37:04,035 - pygmdata - INFO - No original object policy found.\n"
     ]
    },
    {
     "name": "stdout",
     "output_type": "stream",
     "text": [
      "Appending: 15\n",
      "2021-03-09 11:37:04,035 - pygmdata - INFO - No original object policy found.\n",
      "2021-03-09 11:37:04,035 - pygmdata - INFO - No original object policy found.\n"
     ]
    },
    {
     "name": "stderr",
     "output_type": "stream",
     "text": [
      "2021-03-09 11:37:06,411 - pygmdata - INFO - No original object policy found.\n"
     ]
    },
    {
     "name": "stdout",
     "output_type": "stream",
     "text": [
      "Appending: 16\n",
      "2021-03-09 11:37:06,411 - pygmdata - INFO - No original object policy found.\n",
      "2021-03-09 11:37:06,411 - pygmdata - INFO - No original object policy found.\n",
      "Appending: 17\n"
     ]
    },
    {
     "name": "stderr",
     "output_type": "stream",
     "text": [
      "2021-03-09 11:37:08,785 - pygmdata - INFO - No original object policy found.\n"
     ]
    },
    {
     "name": "stdout",
     "output_type": "stream",
     "text": [
      "2021-03-09 11:37:08,785 - pygmdata - INFO - No original object policy found.\n",
      "2021-03-09 11:37:08,785 - pygmdata - INFO - No original object policy found.\n",
      "Appending: 18\n"
     ]
    },
    {
     "name": "stderr",
     "output_type": "stream",
     "text": [
      "2021-03-09 11:37:11,163 - pygmdata - INFO - No original object policy found.\n"
     ]
    },
    {
     "name": "stdout",
     "output_type": "stream",
     "text": [
      "2021-03-09 11:37:11,163 - pygmdata - INFO - No original object policy found.\n",
      "2021-03-09 11:37:11,163 - pygmdata - INFO - No original object policy found.\n",
      "Appending: 19\n"
     ]
    },
    {
     "name": "stderr",
     "output_type": "stream",
     "text": [
      "2021-03-09 11:37:13,547 - pygmdata - INFO - No original object policy found.\n"
     ]
    },
    {
     "name": "stdout",
     "output_type": "stream",
     "text": [
      "2021-03-09 11:37:13,547 - pygmdata - INFO - No original object policy found.\n",
      "2021-03-09 11:37:13,547 - pygmdata - INFO - No original object policy found.\n"
     ]
    }
   ],
   "source": [
    "import time\n",
    "for i in range(20):\n",
    "    time.sleep(2)\n",
    "    print(\"Appending: {}\".format(i))\n",
    "    d.append_data(\"new line {}\\n\".format(i), \"/world/dave.borncamp@greymatter.io/append.txt\")"
   ]
  },
  {
   "cell_type": "markdown",
   "id": "personalized-saying",
   "metadata": {},
   "source": [
    "\n"
   ]
  },
  {
   "cell_type": "markdown",
   "id": "exceptional-craft",
   "metadata": {},
   "source": [
    "### Uploading WIth Rego Policy\n",
    "\n",
    "We can also upload with any Rego/OPA policy"
   ]
  },
  {
   "cell_type": "code",
   "execution_count": 10,
   "id": "secondary-miami",
   "metadata": {},
   "outputs": [
    {
     "data": {
      "text/plain": [
       "True"
      ]
     },
     "execution_count": 10,
     "metadata": {},
     "output_type": "execute_result"
    }
   ],
   "source": [
    "rego_policy = '''package policy\n",
    "inOrg{input.claims.values.email[_]==\"dave.borncamp@greymatter.io\"}\n",
    "R{true}\n",
    "X{true}\n",
    "C{inOrg}\n",
    "U{inOrg}\n",
    "D{inOrg}\n",
    "P{inOrg}'''\n",
    "\n",
    "rego_string = \"This is a test for the rego\"\n",
    "\n",
    "d.stream_upload(rego_string, '/world/dave.borncamp@greymatter.io/ShowRego.txt', original_object_policy=rego_policy)"
   ]
  },
  {
   "cell_type": "markdown",
   "id": "orange-anthropology",
   "metadata": {},
   "source": [
    "Now look in Data and see the new file with the rego policy"
   ]
  },
  {
   "cell_type": "markdown",
   "id": "specific-situation",
   "metadata": {},
   "source": [
    "### Using Actions\n",
    "\n",
    "Now that we have som objects in Data, we can use the SDK to get information on the files. We can get the file properties (ie metadata) and list the contents of the file."
   ]
  },
  {
   "cell_type": "code",
   "execution_count": 11,
   "id": "relative-request",
   "metadata": {},
   "outputs": [
    {
     "name": "stdout",
     "output_type": "stream",
     "text": [
      "{'action': 'C',\n",
      " 'checkedtstamp': '166abfcc09c15b54',\n",
      " 'cluster': 'default',\n",
      " 'derived': {},\n",
      " 'expiration': '7fffffffffffffff',\n",
      " 'isfile': True,\n",
      " 'jwthash': 'b445717a79b3ed19c0c6aeb8c4bca83e63f9dabdd621dbf69912eb2e72b70f67',\n",
      " 'mimetype': 'text/plain',\n",
      " 'name': 'ShowRego.txt',\n",
      " 'objectpolicy': {'rego': 'package policy\\n'\n",
      "                          'inOrg{input.claims.values.email[_]==\"dave.borncamp@greymatter.io\"}\\n'\n",
      "                          'R{true}\\n'\n",
      "                          'X{true}\\n'\n",
      "                          'C{inOrg}\\n'\n",
      "                          'U{inOrg}\\n'\n",
      "                          'D{inOrg}\\n'\n",
      "                          'P{inOrg}',\n",
      "                  'requirements': {'f': 'yield'}},\n",
      " 'oid': '166ac078b8a51adc',\n",
      " 'originalobjectpolicy': 'package policy\\n'\n",
      "                         'inOrg{input.claims.values.email[_]==\"dave.borncamp@greymatter.io\"}\\n'\n",
      "                         'R{true}\\n'\n",
      "                         'X{true}\\n'\n",
      "                         'C{inOrg}\\n'\n",
      "                         'U{inOrg}\\n'\n",
      "                         'D{inOrg}\\n'\n",
      "                         'P{inOrg}',\n",
      " 'parentoid': '166abfcc09a4beb8',\n",
      " 'policy': {'policy': ['C', 'R', 'X', 'U', 'D', 'P']},\n",
      " 'rname': {'Any': 'a24/23/166ac078b8a23a24', 'S3': 'a24/23/166ac078b8a23a24'},\n",
      " 'schemaversion': 10,\n",
      " 'security': {'background': 'green',\n",
      "              'foreground': '#FFFFFF',\n",
      "              'label': 'DECIPHER//GMDATA'},\n",
      " 'sha256plain': 'e3b0c44298fc1c149afbf4c8996fb92427ae41e4649b934ca495991b7852b855',\n",
      " 'size': 27,\n",
      " 'tstamp': '166ac078b8b8c6cc',\n",
      " 'userpolicy': {'label': 'CN=dave.borncamp,OU=Engineering,O=Untrusted '\n",
      "                         'Example,L=Baltimore,ST=MD,C=US'}}\n"
     ]
    }
   ],
   "source": [
    "from pprint import pprint\n",
    "\n",
    "props = d.get_props('/world/dave.borncamp@greymatter.io/ShowRego.txt')\n",
    "\n",
    "pprint(props)"
   ]
  },
  {
   "cell_type": "code",
   "execution_count": 12,
   "id": "figured-specific",
   "metadata": {},
   "outputs": [
    {
     "name": "stdout",
     "output_type": "stream",
     "text": [
      "[{'action': 'C',\n",
      "  'checkedtstamp': '166abfcc09c15b54',\n",
      "  'cluster': 'default',\n",
      "  'derived': {},\n",
      "  'expiration': '7fffffffffffffff',\n",
      "  'isfile': True,\n",
      "  'jwthash': 'b445717a79b3ed19c0c6aeb8c4bca83e63f9dabdd621dbf69912eb2e72b70f67',\n",
      "  'mimetype': 'text/plain',\n",
      "  'name': 'requirements.txt',\n",
      "  'objectpolicy': {'label': 'email match',\n",
      "                   'requirements': {'a': [{'a': [{'v': 'email'},\n",
      "                                                 {'v': 'dave.borncamp@greymatter.io'}],\n",
      "                                           'f': 'contains'},\n",
      "                                          {'f': 'yield-all'},\n",
      "                                          {'a': [{'v': 'R'}, {'v': 'X'}],\n",
      "                                           'f': 'yield'}],\n",
      "                                    'f': 'if'}},\n",
      "  'oid': '166abfd2ccc6e230',\n",
      "  'originalobjectpolicy': [[{'Key': 'Key', 'Value': 'label'},\n",
      "                            {'Key': 'Value', 'Value': 'email match'}],\n",
      "                           [{'Key': 'Key', 'Value': 'requirements'},\n",
      "                            {'Key': 'Value',\n",
      "                             'Value': [[{'Key': 'Key', 'Value': 'f'},\n",
      "                                        {'Key': 'Value', 'Value': 'if'}],\n",
      "                                       [{'Key': 'Key', 'Value': 'a'},\n",
      "                                        {'Key': 'Value',\n",
      "                                         'Value': [[[{'Key': 'Key',\n",
      "                                                      'Value': 'a'},\n",
      "                                                     {'Key': 'Value',\n",
      "                                                      'Value': [[[{'Key': 'Key',\n",
      "                                                                   'Value': 'v'},\n",
      "                                                                  {'Key': 'Value',\n",
      "                                                                   'Value': 'email'}]],\n",
      "                                                                [[{'Key': 'Key',\n",
      "                                                                   'Value': 'v'},\n",
      "                                                                  {'Key': 'Value',\n",
      "                                                                   'Value': 'dave.borncamp@greymatter.io'}]]]}],\n",
      "                                                    [{'Key': 'Key',\n",
      "                                                      'Value': 'f'},\n",
      "                                                     {'Key': 'Value',\n",
      "                                                      'Value': 'contains'}]],\n",
      "                                                   [[{'Key': 'Key',\n",
      "                                                      'Value': 'f'},\n",
      "                                                     {'Key': 'Value',\n",
      "                                                      'Value': 'yield-all'}]],\n",
      "                                                   [[{'Key': 'Value',\n",
      "                                                      'Value': 'yield'},\n",
      "                                                     {'Key': 'Key',\n",
      "                                                      'Value': 'f'}],\n",
      "                                                    [{'Key': 'Key',\n",
      "                                                      'Value': 'a'},\n",
      "                                                     {'Key': 'Value',\n",
      "                                                      'Value': [[[{'Key': 'Key',\n",
      "                                                                   'Value': 'v'},\n",
      "                                                                  {'Key': 'Value',\n",
      "                                                                   'Value': 'R'}]],\n",
      "                                                                [[{'Key': 'Key',\n",
      "                                                                   'Value': 'v'},\n",
      "                                                                  {'Key': 'Value',\n",
      "                                                                   'Value': 'X'}]]]}]]]}]]}]],\n",
      "  'parentoid': '166abfcc09a4beb8',\n",
      "  'policy': {'policy': ['C', 'R', 'U', 'D', 'X', 'P']},\n",
      "  'rname': {'Any': '6e8/3e/166abfd2ccc3e6e8', 'S3': '6e8/3e/166abfd2ccc3e6e8'},\n",
      "  'schemaversion': 10,\n",
      "  'security': {'background': 'green',\n",
      "               'foreground': '#FFFFFF',\n",
      "               'label': 'DECIPHER//GMDATA'},\n",
      "  'sha256plain': 'e3b0c44298fc1c149afbf4c8996fb92427ae41e4649b934ca495991b7852b855',\n",
      "  'size': 56,\n",
      "  'tstamp': '166abfd2ccdc76cc',\n",
      "  'userpolicy': {'label': 'CN=dave.borncamp,OU=Engineering,O=Untrusted '\n",
      "                          'Example,L=Baltimore,ST=MD,C=US'}},\n",
      " {'action': 'C',\n",
      "  'checkedtstamp': '166abfcc09c15b54',\n",
      "  'cluster': 'default',\n",
      "  'derived': {},\n",
      "  'expiration': '7fffffffffffffff',\n",
      "  'isfile': True,\n",
      "  'jwthash': 'b445717a79b3ed19c0c6aeb8c4bca83e63f9dabdd621dbf69912eb2e72b70f67',\n",
      "  'mimetype': 'text/plain',\n",
      "  'name': 'DemoUpload.txt',\n",
      "  'objectpolicy': {'label': 'email match',\n",
      "                   'requirements': {'a': [{'a': [{'v': 'email'},\n",
      "                                                 {'v': 'dave.borncamp@greymatter.io'}],\n",
      "                                           'f': 'contains'},\n",
      "                                          {'f': 'yield-all'},\n",
      "                                          {'a': [{'v': 'R'}, {'v': 'X'}],\n",
      "                                           'f': 'yield'}],\n",
      "                                    'f': 'if'}},\n",
      "  'oid': '166abfd3b20cd6ec',\n",
      "  'originalobjectpolicy': [[{'Key': 'Key', 'Value': 'label'},\n",
      "                            {'Key': 'Value', 'Value': 'email match'}],\n",
      "                           [{'Key': 'Key', 'Value': 'requirements'},\n",
      "                            {'Key': 'Value',\n",
      "                             'Value': [[{'Key': 'Key', 'Value': 'f'},\n",
      "                                        {'Key': 'Value', 'Value': 'if'}],\n",
      "                                       [{'Key': 'Key', 'Value': 'a'},\n",
      "                                        {'Key': 'Value',\n",
      "                                         'Value': [[[{'Key': 'Key',\n",
      "                                                      'Value': 'a'},\n",
      "                                                     {'Key': 'Value',\n",
      "                                                      'Value': [[[{'Key': 'Key',\n",
      "                                                                   'Value': 'v'},\n",
      "                                                                  {'Key': 'Value',\n",
      "                                                                   'Value': 'email'}]],\n",
      "                                                                [[{'Key': 'Key',\n",
      "                                                                   'Value': 'v'},\n",
      "                                                                  {'Key': 'Value',\n",
      "                                                                   'Value': 'dave.borncamp@greymatter.io'}]]]}],\n",
      "                                                    [{'Key': 'Key',\n",
      "                                                      'Value': 'f'},\n",
      "                                                     {'Key': 'Value',\n",
      "                                                      'Value': 'contains'}]],\n",
      "                                                   [[{'Key': 'Key',\n",
      "                                                      'Value': 'f'},\n",
      "                                                     {'Key': 'Value',\n",
      "                                                      'Value': 'yield-all'}]],\n",
      "                                                   [[{'Key': 'Key',\n",
      "                                                      'Value': 'f'},\n",
      "                                                     {'Key': 'Value',\n",
      "                                                      'Value': 'yield'}],\n",
      "                                                    [{'Key': 'Key',\n",
      "                                                      'Value': 'a'},\n",
      "                                                     {'Key': 'Value',\n",
      "                                                      'Value': [[[{'Key': 'Key',\n",
      "                                                                   'Value': 'v'},\n",
      "                                                                  {'Key': 'Value',\n",
      "                                                                   'Value': 'R'}]],\n",
      "                                                                [[{'Key': 'Key',\n",
      "                                                                   'Value': 'v'},\n",
      "                                                                  {'Key': 'Value',\n",
      "                                                                   'Value': 'X'}]]]}]]]}]]}]],\n",
      "  'parentoid': '166abfcc09a4beb8',\n",
      "  'policy': {'policy': ['C', 'R', 'U', 'D', 'X', 'P']},\n",
      "  'rname': {'Any': '32c/5a/166abfd3b205a32c', 'S3': '32c/5a/166abfd3b205a32c'},\n",
      "  'schemaversion': 10,\n",
      "  'security': {'background': 'green',\n",
      "               'foreground': '#FFFFFF',\n",
      "               'label': 'DECIPHER//GMDATA'},\n",
      "  'sha256plain': 'e3b0c44298fc1c149afbf4c8996fb92427ae41e4649b934ca495991b7852b855',\n",
      "  'size': 84,\n",
      "  'tstamp': '166abfd3b22e3710',\n",
      "  'userpolicy': {'label': 'CN=dave.borncamp,OU=Engineering,O=Untrusted '\n",
      "                          'Example,L=Baltimore,ST=MD,C=US'}},\n",
      " {'action': 'C',\n",
      "  'checkedtstamp': '166abfcc09c15b54',\n",
      "  'cluster': 'default',\n",
      "  'derived': {},\n",
      "  'expiration': '7fffffffffffffff',\n",
      "  'isfile': True,\n",
      "  'jwthash': 'b445717a79b3ed19c0c6aeb8c4bca83e63f9dabdd621dbf69912eb2e72b70f67',\n",
      "  'mimetype': 'text/csv',\n",
      "  'name': 'testDataFrame.csv',\n",
      "  'objectpolicy': {'label': 'email match',\n",
      "                   'requirements': {'a': [{'a': [{'v': 'email'},\n",
      "                                                 {'v': 'dave.borncamp@greymatter.io'}],\n",
      "                                           'f': 'contains'},\n",
      "                                          {'f': 'yield-all'},\n",
      "                                          {'a': [{'v': 'R'}, {'v': 'X'}],\n",
      "                                           'f': 'yield'}],\n",
      "                                    'f': 'if'}},\n",
      "  'oid': '166abfd47cf99b4c',\n",
      "  'originalobjectpolicy': [[{'Key': 'Key', 'Value': 'label'},\n",
      "                            {'Key': 'Value', 'Value': 'email match'}],\n",
      "                           [{'Key': 'Key', 'Value': 'requirements'},\n",
      "                            {'Key': 'Value',\n",
      "                             'Value': [[{'Key': 'Key', 'Value': 'f'},\n",
      "                                        {'Key': 'Value', 'Value': 'if'}],\n",
      "                                       [{'Key': 'Key', 'Value': 'a'},\n",
      "                                        {'Key': 'Value',\n",
      "                                         'Value': [[[{'Key': 'Key',\n",
      "                                                      'Value': 'a'},\n",
      "                                                     {'Key': 'Value',\n",
      "                                                      'Value': [[[{'Key': 'Key',\n",
      "                                                                   'Value': 'v'},\n",
      "                                                                  {'Key': 'Value',\n",
      "                                                                   'Value': 'email'}]],\n",
      "                                                                [[{'Key': 'Key',\n",
      "                                                                   'Value': 'v'},\n",
      "                                                                  {'Key': 'Value',\n",
      "                                                                   'Value': 'dave.borncamp@greymatter.io'}]]]}],\n",
      "                                                    [{'Key': 'Key',\n",
      "                                                      'Value': 'f'},\n",
      "                                                     {'Key': 'Value',\n",
      "                                                      'Value': 'contains'}]],\n",
      "                                                   [[{'Key': 'Key',\n",
      "                                                      'Value': 'f'},\n",
      "                                                     {'Key': 'Value',\n",
      "                                                      'Value': 'yield-all'}]],\n",
      "                                                   [[{'Key': 'Key',\n",
      "                                                      'Value': 'f'},\n",
      "                                                     {'Key': 'Value',\n",
      "                                                      'Value': 'yield'}],\n",
      "                                                    [{'Key': 'Key',\n",
      "                                                      'Value': 'a'},\n",
      "                                                     {'Key': 'Value',\n",
      "                                                      'Value': [[[{'Key': 'Key',\n",
      "                                                                   'Value': 'v'},\n",
      "                                                                  {'Key': 'Value',\n",
      "                                                                   'Value': 'R'}]],\n",
      "                                                                [[{'Key': 'Key',\n",
      "                                                                   'Value': 'v'},\n",
      "                                                                  {'Key': 'Value',\n",
      "                                                                   'Value': 'X'}]]]}]]]}]]}]],\n",
      "  'parentoid': '166abfcc09a4beb8',\n",
      "  'policy': {'policy': ['C', 'R', 'U', 'D', 'X', 'P']},\n",
      "  'rname': {'Any': 'c7c/04/166abfd47cf04c7c', 'S3': 'c7c/04/166abfd47cf04c7c'},\n",
      "  'schemaversion': 10,\n",
      "  'security': {'background': 'green',\n",
      "               'foreground': '#FFFFFF',\n",
      "               'label': 'DECIPHER//GMDATA'},\n",
      "  'sha256plain': 'e3b0c44298fc1c149afbf4c8996fb92427ae41e4649b934ca495991b7852b855',\n",
      "  'size': 188,\n",
      "  'tstamp': '166abfd47d116e84',\n",
      "  'userpolicy': {'label': 'CN=dave.borncamp,OU=Engineering,O=Untrusted '\n",
      "                          'Example,L=Baltimore,ST=MD,C=US'}},\n",
      " {'action': 'C',\n",
      "  'checkedtstamp': '166abfcc09c15b54',\n",
      "  'cluster': 'default',\n",
      "  'derived': {},\n",
      "  'expiration': '7fffffffffffffff',\n",
      "  'jwthash': 'b445717a79b3ed19c0c6aeb8c4bca83e63f9dabdd621dbf69912eb2e72b70f67',\n",
      "  'name': 'append.txt',\n",
      "  'objectpolicy': {'label': 'email match',\n",
      "                   'requirements': {'a': [{'a': [{'v': 'email'},\n",
      "                                                 {'v': 'dave.borncamp@greymatter.io'}],\n",
      "                                           'f': 'contains'},\n",
      "                                          {'f': 'yield-all'},\n",
      "                                          {'a': [{'v': 'R'}, {'v': 'X'}],\n",
      "                                           'f': 'yield'}],\n",
      "                                    'f': 'if'}},\n",
      "  'oid': '166abfd611d4b930',\n",
      "  'parentoid': '166abfcc09a4beb8',\n",
      "  'policy': {'policy': ['C', 'R', 'U', 'D', 'X', 'P']},\n",
      "  'schemaversion': 10,\n",
      "  'security': {'background': 'green',\n",
      "               'foreground': '#FFFFFF',\n",
      "               'label': 'DECIPHER//GMDATA'},\n",
      "  'tstamp': '166abfd611e463bc',\n",
      "  'userpolicy': {'label': 'CN=dave.borncamp,OU=Engineering,O=Untrusted '\n",
      "                          'Example,L=Baltimore,ST=MD,C=US'}},\n",
      " {'action': 'C',\n",
      "  'checkedtstamp': '166abfcc09c15b54',\n",
      "  'cluster': 'default',\n",
      "  'derived': {},\n",
      "  'expiration': '7fffffffffffffff',\n",
      "  'isfile': True,\n",
      "  'jwthash': 'b445717a79b3ed19c0c6aeb8c4bca83e63f9dabdd621dbf69912eb2e72b70f67',\n",
      "  'mimetype': 'text/plain',\n",
      "  'name': 'ShowRego.txt',\n",
      "  'objectpolicy': {'rego': 'package policy\\n'\n",
      "                           'inOrg{input.claims.values.email[_]==\"dave.borncamp@greymatter.io\"}\\n'\n",
      "                           'R{true}\\n'\n",
      "                           'X{true}\\n'\n",
      "                           'C{inOrg}\\n'\n",
      "                           'U{inOrg}\\n'\n",
      "                           'D{inOrg}\\n'\n",
      "                           'P{inOrg}',\n",
      "                   'requirements': {'f': 'yield'}},\n",
      "  'oid': '166ac078b8a51adc',\n",
      "  'originalobjectpolicy': 'package policy\\n'\n",
      "                          'inOrg{input.claims.values.email[_]==\"dave.borncamp@greymatter.io\"}\\n'\n",
      "                          'R{true}\\n'\n",
      "                          'X{true}\\n'\n",
      "                          'C{inOrg}\\n'\n",
      "                          'U{inOrg}\\n'\n",
      "                          'D{inOrg}\\n'\n",
      "                          'P{inOrg}',\n",
      "  'parentoid': '166abfcc09a4beb8',\n",
      "  'policy': {'policy': ['C', 'R', 'X', 'U', 'D', 'P']},\n",
      "  'rname': {'Any': 'a24/23/166ac078b8a23a24', 'S3': 'a24/23/166ac078b8a23a24'},\n",
      "  'schemaversion': 10,\n",
      "  'security': {'background': 'green',\n",
      "               'foreground': '#FFFFFF',\n",
      "               'label': 'DECIPHER//GMDATA'},\n",
      "  'sha256plain': 'e3b0c44298fc1c149afbf4c8996fb92427ae41e4649b934ca495991b7852b855',\n",
      "  'size': 27,\n",
      "  'tstamp': '166ac078b8b8c6cc',\n",
      "  'userpolicy': {'label': 'CN=dave.borncamp,OU=Engineering,O=Untrusted '\n",
      "                          'Example,L=Baltimore,ST=MD,C=US'}}]\n"
     ]
    }
   ],
   "source": [
    "listing = d.get_list('/world/dave.borncamp@greymatter.io/')\n",
    "pprint(listing)"
   ]
  },
  {
   "cell_type": "markdown",
   "id": "available-residence",
   "metadata": {},
   "source": [
    "## Reading From Grey Matter Data\n",
    "\n",
    "Now that we have put some data up there, lets read it out. The PyGMData SDK has functions to read variables directly into memory or give buffers to be managed by other programs. "
   ]
  },
  {
   "cell_type": "code",
   "execution_count": 13,
   "id": "spare-start",
   "metadata": {},
   "outputs": [
    {
     "name": "stdout",
     "output_type": "stream",
     "text": [
      "This is a sample of text that is a string in memory.\n",
      "It was uploaded with pygmdata.\n",
      "\n"
     ]
    }
   ],
   "source": [
    "retreived_text = d.stream_file('/world/dave.borncamp@greymatter.io/DemoUpload.txt')\n",
    "print(retreived_text)"
   ]
  },
  {
   "cell_type": "markdown",
   "id": "natural-soundtrack",
   "metadata": {},
   "source": [
    "It can also stream buffers to other libraries like Pandas"
   ]
  },
  {
   "cell_type": "code",
   "execution_count": 14,
   "id": "attractive-jungle",
   "metadata": {},
   "outputs": [
    {
     "data": {
      "text/html": [
       "<div>\n",
       "<style scoped>\n",
       "    .dataframe tbody tr th:only-of-type {\n",
       "        vertical-align: middle;\n",
       "    }\n",
       "\n",
       "    .dataframe tbody tr th {\n",
       "        vertical-align: top;\n",
       "    }\n",
       "\n",
       "    .dataframe thead th {\n",
       "        text-align: right;\n",
       "    }\n",
       "</style>\n",
       "<table border=\"1\" class=\"dataframe\">\n",
       "  <thead>\n",
       "    <tr style=\"text-align: right;\">\n",
       "      <th></th>\n",
       "      <th>Unnamed: 0</th>\n",
       "      <th>name</th>\n",
       "      <th>city</th>\n",
       "      <th>age</th>\n",
       "      <th>py-score</th>\n",
       "    </tr>\n",
       "  </thead>\n",
       "  <tbody>\n",
       "    <tr>\n",
       "      <th>0</th>\n",
       "      <td>1</td>\n",
       "      <td>Xavier</td>\n",
       "      <td>Mexico City</td>\n",
       "      <td>41</td>\n",
       "      <td>88.0</td>\n",
       "    </tr>\n",
       "    <tr>\n",
       "      <th>1</th>\n",
       "      <td>2</td>\n",
       "      <td>Ann</td>\n",
       "      <td>Toronto</td>\n",
       "      <td>28</td>\n",
       "      <td>79.0</td>\n",
       "    </tr>\n",
       "    <tr>\n",
       "      <th>2</th>\n",
       "      <td>3</td>\n",
       "      <td>Jana</td>\n",
       "      <td>Prague</td>\n",
       "      <td>33</td>\n",
       "      <td>81.0</td>\n",
       "    </tr>\n",
       "    <tr>\n",
       "      <th>3</th>\n",
       "      <td>4</td>\n",
       "      <td>Yi</td>\n",
       "      <td>Shanghai</td>\n",
       "      <td>34</td>\n",
       "      <td>80.0</td>\n",
       "    </tr>\n",
       "    <tr>\n",
       "      <th>4</th>\n",
       "      <td>5</td>\n",
       "      <td>Robin</td>\n",
       "      <td>Manchester</td>\n",
       "      <td>38</td>\n",
       "      <td>68.0</td>\n",
       "    </tr>\n",
       "  </tbody>\n",
       "</table>\n",
       "</div>"
      ],
      "text/plain": [
       "   Unnamed: 0    name         city  age  py-score\n",
       "0           1  Xavier  Mexico City   41      88.0\n",
       "1           2     Ann      Toronto   28      79.0\n",
       "2           3    Jana       Prague   33      81.0\n",
       "3           4      Yi     Shanghai   34      80.0\n",
       "4           5   Robin   Manchester   38      68.0"
      ]
     },
     "execution_count": 14,
     "metadata": {},
     "output_type": "execute_result"
    }
   ],
   "source": [
    "df1 = pd.read_csv(d.get_byte_steam('/world/dave.borncamp@greymatter.io/testDataFrame.csv'), \n",
    "                 low_memory=False)\n",
    "df1.head()"
   ]
  },
  {
   "cell_type": "markdown",
   "id": "polish-capital",
   "metadata": {},
   "source": [
    "Neither of these files hit disk, they are only in memory!\n",
    "\n",
    "PyGMData SDK also has the ability to easily download files to disk. The file is not on disk to begin with:"
   ]
  },
  {
   "cell_type": "code",
   "execution_count": 15,
   "id": "comfortable-tuner",
   "metadata": {},
   "outputs": [
    {
     "name": "stdout",
     "output_type": "stream",
     "text": [
      "210303Demo.ipynb               janfrac.md\r\n",
      "CreativeCommons.txt            \u001b[34mnotebooks\u001b[m\u001b[m/\r\n",
      "LICENSE.txt                    \u001b[34mold_tests\u001b[m\u001b[m/\r\n",
      "MANIFEST.in                    op.json\r\n",
      "README.md                      privacy.html\r\n",
      "Tutorial_Demo.ipynb            \u001b[34mpygmdata\u001b[m\u001b[m/\r\n",
      "\u001b[34mbuild\u001b[m\u001b[m/                         \u001b[34mpygmdata.egg-info\u001b[m\u001b[m/\r\n",
      "\u001b[34mcerts\u001b[m\u001b[m/                         readthedocs.yml\r\n",
      "\u001b[34mconversions\u001b[m\u001b[m/                   requirements.txt\r\n",
      "\u001b[34mdataLib\u001b[m\u001b[m/                       setup.cfg\r\n",
      "\u001b[34mdist\u001b[m\u001b[m/                          setup.py\r\n",
      "docker-compose.yml             \u001b[34mtests\u001b[m\u001b[m/\r\n",
      "\u001b[34mdocs\u001b[m\u001b[m/                          users.json\r\n",
      "gmdata-scala-sdk-no-ssl.ipynb\r\n"
     ]
    }
   ],
   "source": [
    "ls"
   ]
  },
  {
   "cell_type": "code",
   "execution_count": 16,
   "id": "coral-person",
   "metadata": {},
   "outputs": [
    {
     "data": {
      "text/plain": [
       "'downloadTest.txt'"
      ]
     },
     "execution_count": 16,
     "metadata": {},
     "output_type": "execute_result"
    }
   ],
   "source": [
    "d.download_file('/world/dave.borncamp@greymatter.io/DemoUpload.txt', 'downloadTest.txt')"
   ]
  },
  {
   "cell_type": "markdown",
   "id": "aquatic-number",
   "metadata": {},
   "source": [
    "Now the file should be on disk and named `downloadTest.txt`"
   ]
  },
  {
   "cell_type": "code",
   "execution_count": 17,
   "id": "fourth-yesterday",
   "metadata": {},
   "outputs": [
    {
     "name": "stdout",
     "output_type": "stream",
     "text": [
      "210303Demo.ipynb               gmdata-scala-sdk-no-ssl.ipynb\r\n",
      "CreativeCommons.txt            janfrac.md\r\n",
      "LICENSE.txt                    \u001b[34mnotebooks\u001b[m\u001b[m/\r\n",
      "MANIFEST.in                    \u001b[34mold_tests\u001b[m\u001b[m/\r\n",
      "README.md                      op.json\r\n",
      "Tutorial_Demo.ipynb            privacy.html\r\n",
      "\u001b[34mbuild\u001b[m\u001b[m/                         \u001b[34mpygmdata\u001b[m\u001b[m/\r\n",
      "\u001b[34mcerts\u001b[m\u001b[m/                         \u001b[34mpygmdata.egg-info\u001b[m\u001b[m/\r\n",
      "\u001b[34mconversions\u001b[m\u001b[m/                   readthedocs.yml\r\n",
      "\u001b[34mdataLib\u001b[m\u001b[m/                       requirements.txt\r\n",
      "\u001b[34mdist\u001b[m\u001b[m/                          setup.cfg\r\n",
      "docker-compose.yml             setup.py\r\n",
      "\u001b[34mdocs\u001b[m\u001b[m/                          \u001b[34mtests\u001b[m\u001b[m/\r\n",
      "downloadTest.txt               users.json\r\n"
     ]
    }
   ],
   "source": [
    "ls"
   ]
  },
  {
   "cell_type": "markdown",
   "id": "dense-doubt",
   "metadata": {},
   "source": [
    "## Bonus Fun\n",
    "\n",
    "We'll create some small astronomical data and centroid the sources on it, then save an annotated image without writing anything to disk."
   ]
  },
  {
   "cell_type": "code",
   "execution_count": 18,
   "id": "cutting-verse",
   "metadata": {},
   "outputs": [
    {
     "data": {
      "image/png": "[encoded data removed]",
      "text/plain": [
       "<Figure size 576x288 with 1 Axes>"
      ]
     },
     "metadata": {
      "needs_background": "light"
     },
     "output_type": "display_data"
    }
   ],
   "source": [
    "import io\n",
    "from photutils.datasets import make_4gaussians_image\n",
    "from photutils import centroid_sources, centroid_com\n",
    "import matplotlib.pyplot as plt\n",
    "\n",
    "# create 4 elongated gaussian sources and centroid\n",
    "data = make_4gaussians_image()\n",
    "\n",
    "x_init = (25, 91, 151, 160)\n",
    "y_init = (40, 61, 24, 71)\n",
    "x, y = centroid_sources(data, x_init, y_init, box_size=21,\n",
    "                        centroid_ntroid_com)\n",
    "plt.figure(figsize=(8, 4))\n",
    "plt.imshow(data, origin='lower', interpolation='nearest')\n",
    "plt.scatter(x, y, marker='+', s=80, color='red')\n",
    "plt.tight_layout()\n",
    "\n",
    "\n",
    "# Now save the annotated plot in Data using a buffer\n",
    "\n",
    "with io.BytesIO() as buf:\n",
    "    plt.savefig(buf, format='png')\n",
    "    buf.seek(0)\n",
    "    d.stream_upload(buf, '/world/dave.borncamp@greymatter.io/centroid.png')\n"
   ]
  },
  {
   "cell_type": "markdown",
   "id": "immune-frost",
   "metadata": {},
   "source": [
    "Lets try reading the image back out"
   ]
  },
  {
   "cell_type": "code",
   "execution_count": 24,
   "id": "trying-placement",
   "metadata": {},
   "outputs": [],
   "source": [
    "from PIL import Image\n",
    "\n",
    "img = Image.open(d.get_byte_steam('/world/dave.borncamp@greymatter.io/centroid.png'))\n",
    "\n",
    "img"
   ]
  },
  {
   "cell_type": "code",
   "execution_count": 26,
   "id": "bound-christopher",
   "metadata": {},
   "outputs": [
    {
     "data": {
      "text/plain": [
       "PIL.PngImagePlugin.PngImageFile"
      ]
     },
     "execution_count": 26,
     "metadata": {},
     "output_type": "execute_result"
    }
   ],
   "source": [
    "type(img)"
   ]
  },
  {
   "cell_type": "code",
   "execution_count": null,
   "id": "southeast-familiar",
   "metadata": {},
   "outputs": [],
   "source": []
  },
  {
   "cell_type": "code",
   "execution_count": null,
   "id": "informational-territory",
   "metadata": {},
   "outputs": [],
   "source": []
  },
  {
   "cell_type": "markdown",
   "id": "secret-belgium",
   "metadata": {},
   "source": [
    "### Supports TLS Interactions\n",
    "\n",
    "The library also supports interactions via TLS. To demo this we will interact with a Data instance in DI2E.\n",
    "Unfortunately, this is not implemented in an optimized way so initially it takes a long time when there are a lot of files in the Data instance."
   ]
  },
  {
   "cell_type": "code",
   "execution_count": null,
   "id": "chronic-neighborhood",
   "metadata": {},
   "outputs": [],
   "source": [
    "cert = \"/Users/dborncamp/.ssh/di2e/20200831/dave.borncamp.crt\"\n",
    "key = \"/Users/dborncamp/.ssh/di2e/20200831/dave.borncamp.key\"\n",
    "\n",
    "d1 = pygmdata.Data(\"https://mesh.greymatter.devcloud.di2e.net/services/sandbox-data/1.1\",\n",
    "                   cert=cert, key=key, repopulate=False)"
   ]
  },
  {
   "cell_type": "code",
   "execution_count": null,
   "id": "anonymous-generator",
   "metadata": {},
   "outputs": [],
   "source": []
  },
  {
   "cell_type": "code",
   "execution_count": null,
   "id": "minute-invitation",
   "metadata": {},
   "outputs": [],
   "source": []
  },
  {
   "cell_type": "code",
   "execution_count": null,
   "id": "continental-audio",
   "metadata": {},
   "outputs": [],
   "source": []
  },
  {
   "cell_type": "code",
   "execution_count": null,
   "id": "utility-proposition",
   "metadata": {},
   "outputs": [],
   "source": [
    "d.populate_hierarchy(\"/\")"
   ]
  },
  {
   "cell_type": "code",
   "execution_count": 19,
   "id": "focal-overhead",
   "metadata": {},
   "outputs": [],
   "source": [
    "from importlib import reload\n",
    "reload(pygmdata)\n",
    "d = pygmdata.Data(\"http://localhost:8181\", USER_DN='CN=dave.borncamp,OU=Engineering,O=Untrusted Example,L=Baltimore,ST=MD,C=US') "
   ]
  },
  {
   "cell_type": "code",
   "execution_count": null,
   "id": "aerial-writing",
   "metadata": {},
   "outputs": [],
   "source": []
  }
 ],
 "metadata": {
  "kernelspec": {
   "display_name": "Python 3",
   "language": "python",
   "name": "python3"
  },
  "language_info": {
   "codemirror_mode": {
    "name": "ipython",
    "version": 3
   },
   "file_extension": ".py",
   "mimetype": "text/x-python",
   "name": "python",
   "nbconvert_exporter": "python",
   "pygments_lexer": "ipython3",
   "version": "3.8.6"
  }
 },
 "nbformat": 4,
 "nbformat_minor": 5
}
