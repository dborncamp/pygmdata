{
 "cells": [
  {
   "cell_type": "markdown",
   "id": "structural-bradley",
   "metadata": {},
   "source": [
    "# PyGMData\n",
    "\n",
    "Welcome to the PyGMData tutorial!\n",
    "\n",
    "PyGMData is a Python SDK to interface with the Grey Matter Data API. It has the ability to do things like:\n",
    "\n",
    "- Stream files directly to/from memory (both download and upload)\n",
    "- Upload and download files from/to disk\n",
    "- Handle impersonation and TLS connections\n",
    "- File appends in Data (both from files on disk and memory)\n",
    "- Internal logging, both to standard out and to a file\n",
    "\n"
   ]
  },
  {
   "cell_type": "markdown",
   "id": "chemical-premises",
   "metadata": {},
   "source": [
    "## Setup\n",
    "\n",
    "First start by importing the library. This is a normal python library and can be used just the same as any other.\n",
    "\n",
    "Then make the pygmdata object to interface with Grey Matter Data. This takes the base URL that Data lives at. Optional parameters can be supplied as well. Currently these are supported:\n",
    "\n",
    "- `USER_DN` - Used for user impersonation. This is used for every transaction if specified. This can be changed later if needed.\n",
    "- `logfile` - Will ouput logs to a file if specified\n",
    "- `log_level` - Level of verbosity to log, defaults to warnings\n",
    "- `security` - The default security policy to use. This can be overidden when writing files. If not specified it will use:\n",
    "    ```Python\n",
    "        {\"label\": \"DECIPHER//GMDATA\",\n",
    "         \"foreground\": \"#FFFFFF\",\n",
    "         \"background\": \"green\"}\n",
    "    ```\n",
    "- `cert` - Certificate to use in pem format.\n",
    "- `key` - keyfile to use in pem format.\n",
    "- `trust` - CA trust to use to make TLS connections.\n",
    "- `repopulate` - A hack to get around changes that may have happened\n",
    "    in Data between file uploads and hierarchy updates"
   ]
  },
  {
   "cell_type": "code",
   "execution_count": null,
   "id": "formed-people",
   "metadata": {},
   "outputs": [],
   "source": [
    "from pygmdata import pygmdata\n",
    "\n",
    "cert = \"/Users/dborncamp/.ssh/di2e/20200831/dave.borncamp.crt\"\n",
    "key = \"/Users/dborncamp/.ssh/di2e/20200831/dave.borncamp.key\"\n",
    "\n",
    "d = pygmdata.Data(\"https://mesh.greymatter.devcloud.di2e.net/services/sandbox-data/1.1\",\n",
    "                  cert=cert, key=key, repopulate=False)\n",
    "\n",
    "# set a DN that has permissions to do things in Data\n",
    "#d = pygmdata.Data(\"http://localhost:8181\",\n",
    "#                  USER_DN='CN=dave.borncamp,OU=Engineering,O=Untrusted Example,L=Baltimore,ST=MD,C=US')"
   ]
  },
  {
   "cell_type": "markdown",
   "id": "faced-tiffany",
   "metadata": {},
   "source": [
    "### Create Home Directory\n",
    "\n",
    "To start, most users will be writing to their home directory and by default it is not created for us. The PyGMData SDK has pre-built functions to create it for whatever user/imersonation is interacting with Data.\n",
    "\n",
    "Custom Object Policies can be used for creating any directory."
   ]
  },
  {
   "cell_type": "code",
   "execution_count": null,
   "id": "existing-donor",
   "metadata": {},
   "outputs": [],
   "source": [
    "import json\n",
    "\n",
    "op = '''{\\\"label\\\":\\\"email match\\\",\\\"requirements\\\":{\\\"f\\\":\\\"if\\\",\\\"a\\\":\n",
    "[{\\\"f\\\":\\\"contains\\\",\\\"a\\\":[{\\\"v\\\":\\\"email\\\"},{\\\"v\\\":\\\"dave.borncamp@greymatter.io\\\"}]},{\\\"f\\\":\\\"yield-all\\\"},\n",
    "{\\\"f\\\":\\\"yield\\\",\\\"a\\\":[{\\\"v\\\":\\\"R\\\"},{\\\"v\\\":\\\"X\\\"}]}]}}'''\n",
    "\n",
    "d.get_self_identify(object_policy=json.loads(op))"
   ]
  },
  {
   "cell_type": "markdown",
   "id": "conscious-identification",
   "metadata": {},
   "source": [
    "## Writing to GM Data"
   ]
  },
  {
   "cell_type": "markdown",
   "id": "liquid-retirement",
   "metadata": {},
   "source": [
    "### Writing to Data\n",
    "\n",
    "Now that we have a home directory, lets start writing data into it. We'll start by uploading a file to Data from Disk"
   ]
  },
  {
   "cell_type": "code",
   "execution_count": null,
   "id": "becoming-moscow",
   "metadata": {},
   "outputs": [],
   "source": [
    "d.upload_file(\"requirements.txt\", \"/home/icEMail:justin.ely@ic.com/requirements.txt\")"
   ]
  },
  {
   "cell_type": "markdown",
   "id": "micro-blair",
   "metadata": {},
   "source": [
    "The text file containing the requirements for pygmdata library should now be in Data!\n",
    "\n",
    "Lets try writing a file and streaming the contents from memory starting with a string.\n",
    "Normally streaming to data would take an IO buffer, but there is a convience method for uploading strings."
   ]
  },
  {
   "cell_type": "code",
   "execution_count": null,
   "id": "practical-reducing",
   "metadata": {},
   "outputs": [],
   "source": [
    "upload_text = \"\"\"This is a sample of text that is a string in memory.\n",
    "It was uploaded with pygmdata.\n",
    "\"\"\"\n",
    "\n",
    "d.stream_upload_string(upload_text, '/home/icEMail:justin.ely@ic.com/DemoUpload.txt')"
   ]
  },
  {
   "cell_type": "markdown",
   "id": "empty-isolation",
   "metadata": {},
   "source": [
    "Now, lets try uploading some more interesting files like a Pandas DataFrame"
   ]
  },
  {
   "cell_type": "code",
   "execution_count": null,
   "id": "robust-administrator",
   "metadata": {},
   "outputs": [],
   "source": [
    "import pandas as pd\n",
    "\n",
    "data = {\n",
    "    'name': ['Xavier', 'Ann', 'Jana', 'Yi', 'Robin', 'Amal', 'Nori'],\n",
    "    'city': ['Mexico City', 'Toronto', 'Prague', 'Shanghai',\n",
    "             'Manchester', 'Cairo', 'Osaka'],\n",
    "    'age': [41, 28, 33, 34, 38, 31, 37],\n",
    "    'py-score': [88.0, 79.0, 81.0, 80.0, 68.0, 61.0, 84.0]\n",
    "}\n",
    "\n",
    "row_labels = [1, 2, 3, 4, 5, 6, 7]\n",
    "\n",
    "df = pd.DataFrame(data=data, index=row_labels)\n",
    "df.head()"
   ]
  },
  {
   "cell_type": "markdown",
   "id": "assigned-component",
   "metadata": {},
   "source": [
    "And now actually send it by making a buffer and converting it to a .csv and sending that output to Data"
   ]
  },
  {
   "cell_type": "code",
   "execution_count": null,
   "id": "caroline-trailer",
   "metadata": {},
   "outputs": [],
   "source": [
    "import io\n",
    "\n",
    "text_stream = io.StringIO()\n",
    "\n",
    "df.to_csv(text_stream)\n",
    "\n",
    "d.stream_upload(text_stream, \"/home/icEMail:justin.ely@ic.com/testDataFrame.csv\")"
   ]
  },
  {
   "cell_type": "markdown",
   "id": "prime-consultancy",
   "metadata": {},
   "source": [
    "### Append to a file\n",
    "\n",
    "We can also append to existing files. This could be useful for adding to logs in Data. Also useful for asynchronyous writes from multiple places."
   ]
  },
  {
   "cell_type": "code",
   "execution_count": null,
   "id": "early-dayton",
   "metadata": {},
   "outputs": [],
   "source": [
    "import time\n",
    "\n",
    "for i in range(20):\n",
    "    time.sleep(1)\n",
    "    print(\"Appending: {}\".format(i))\n",
    "    d.append_data(\"new line {}\\n\".format(i), \"/home/icEMail:justin.ely@ic.com/append.txt\")"
   ]
  },
  {
   "cell_type": "code",
   "execution_count": null,
   "id": "respiratory-schema",
   "metadata": {},
   "outputs": [],
   "source": []
  },
  {
   "cell_type": "markdown",
   "id": "radio-command",
   "metadata": {},
   "source": [
    "\n"
   ]
  },
  {
   "cell_type": "markdown",
   "id": "pressing-fetish",
   "metadata": {},
   "source": [
    "### Uploading WIth Rego Policy\n",
    "\n",
    "We can also upload with any Rego/OPA policy"
   ]
  },
  {
   "cell_type": "code",
   "execution_count": null,
   "id": "judicial-details",
   "metadata": {},
   "outputs": [],
   "source": [
    "rego_string = \"This is a test for the rego\"\n",
    "\n",
    "rego_policy = '''package policy\n",
    "inOrg{input.claims.values.email[_]==\"niprnetEmail:dave.borncamp@greymatter.io\"}\n",
    "R{true}\n",
    "X{true}\n",
    "C{inOrg}\n",
    "U{inOrg}\n",
    "D{inOrg}\n",
    "P{inOrg}'''\n",
    "\n",
    "d.stream_upload(rego_string, '/home/icEMail:justin.ely@ic.com/ShowRego.txt', original_object_policy=rego_policy)"
   ]
  },
  {
   "cell_type": "markdown",
   "id": "proof-franklin",
   "metadata": {},
   "source": [
    "Now look in Data and see the new file with the rego policy"
   ]
  },
  {
   "cell_type": "markdown",
   "id": "massive-tumor",
   "metadata": {},
   "source": [
    "### Using Actions\n",
    "\n",
    "Now that we have som objects in Data, we can use the SDK to get information on the files. We can get the file properties (ie metadata) and list the contents of the file."
   ]
  },
  {
   "cell_type": "code",
   "execution_count": null,
   "id": "chemical-motivation",
   "metadata": {},
   "outputs": [],
   "source": [
    "from pprint import pprint\n",
    "\n",
    "props = d.get_props('/home/icEMail:justin.ely@ic.com/ShowRego.txt')\n",
    "\n",
    "pprint(props)"
   ]
  },
  {
   "cell_type": "code",
   "execution_count": null,
   "id": "written-litigation",
   "metadata": {},
   "outputs": [],
   "source": [
    "listing = d.get_list('/home/icEMail:justin.ely@ic.com/')\n",
    "pprint(listing)"
   ]
  },
  {
   "cell_type": "markdown",
   "id": "available-residence",
   "metadata": {},
   "source": [
    "## Reading From Grey Matter Data\n",
    "\n",
    "Now that we have put some data up there, lets read it out. The PyGMData SDK has functions to read variables directly into memory or give buffers to be managed by other programs. "
   ]
  },
  {
   "cell_type": "code",
   "execution_count": null,
   "id": "spare-start",
   "metadata": {},
   "outputs": [],
   "source": [
    "retreived_text = d.stream_file('/home/icEMail:justin.ely@ic.com/DemoUpload.txt')\n",
    "print(retreived_text)"
   ]
  },
  {
   "cell_type": "markdown",
   "id": "duplicate-explanation",
   "metadata": {},
   "source": [
    "It can also stream buffers to other libraries like Pandas"
   ]
  },
  {
   "cell_type": "code",
   "execution_count": null,
   "id": "attractive-jungle",
   "metadata": {},
   "outputs": [],
   "source": [
    "import pandas as pd\n",
    "df1 = pd.read_csv(d.get_byte_steam('/home/icEMail:justin.ely@ic.com/testDataFrame.csv'), \n",
    "                 low_memory=False)\n",
    "df1.head()"
   ]
  },
  {
   "cell_type": "markdown",
   "id": "further-medline",
   "metadata": {},
   "source": [
    "Neither of these files hit disk, they are only in memory!\n",
    "\n",
    "PyGMData SDK also has the ability to easily download files to disk. The file is not on disk to begin with:"
   ]
  },
  {
   "cell_type": "code",
   "execution_count": null,
   "id": "comfortable-tuner",
   "metadata": {},
   "outputs": [],
   "source": [
    "ls"
   ]
  },
  {
   "cell_type": "code",
   "execution_count": null,
   "id": "cardiac-spray",
   "metadata": {},
   "outputs": [],
   "source": [
    "d.download_file('/home/icEMail:justin.ely@ic.com/DemoUpload.txt', 'downloadTest.txt')"
   ]
  },
  {
   "cell_type": "markdown",
   "id": "optimum-eugene",
   "metadata": {},
   "source": [
    "Now the file should be on disk and named `downloadTest.txt`"
   ]
  },
  {
   "cell_type": "code",
   "execution_count": null,
   "id": "dominican-simpson",
   "metadata": {},
   "outputs": [],
   "source": [
    "ls"
   ]
  },
  {
   "cell_type": "markdown",
   "id": "metallic-blame",
   "metadata": {},
   "source": [
    "## Bonus Fun\n",
    "\n",
    "We'll create some small astronomical data and centroid the sources on it, then save an annotated image without writing anything to disk."
   ]
  },
  {
   "cell_type": "code",
   "execution_count": null,
   "id": "divided-protection",
   "metadata": {},
   "outputs": [],
   "source": [
    "import io\n",
    "from photutils.datasets import make_4gaussians_image\n",
    "from photutils import centroid_sources, centroid_com\n",
    "import matplotlib.pyplot as plt\n",
    "\n",
    "# create 4 elongated gaussian sources and centroid\n",
    "data = make_4gaussians_image()\n",
    "\n",
    "x_init = (25, 91, 151, 160)\n",
    "y_init = (40, 61, 24, 71)\n",
    "x, y = centroid_sources(data, x_init, y_init, box_size=21,\n",
    "                        centroid_func=centroid_com)\n",
    "plt.figure(figsize=(8, 4))\n",
    "plt.imshow(data, origin='lower', interpolation='nearest')\n",
    "plt.scatter(x, y, marker='+', s=180, color='red')\n",
    "plt.tight_layout()\n",
    "\n",
    "\n",
    "# Now save the annotated plot in Data using a buffer\n",
    "\n",
    "with io.BytesIO() as buf:\n",
    "    plt.savefig(buf, format='png')\n",
    "    buf.seek(0)\n",
    "    d.stream_upload(buf, '/home/icEMail:justin.ely@ic.com/centroid.png')\n"
   ]
  },
  {
   "cell_type": "markdown",
   "id": "strange-preview",
   "metadata": {},
   "source": [
    "Lets try reading the image back out"
   ]
  },
  {
   "cell_type": "code",
   "execution_count": null,
   "id": "elder-organizer",
   "metadata": {},
   "outputs": [],
   "source": [
    "from PIL import Image\n",
    "\n",
    "img = Image.open(d.get_byte_steam('/home/icEMail:justin.ely@ic.com/centroid.png'))\n",
    "\n",
    "img"
   ]
  },
  {
   "cell_type": "code",
   "execution_count": null,
   "id": "talented-johns",
   "metadata": {},
   "outputs": [],
   "source": [
    "img1 = d.stream_file('/home/icEMail:justin.ely@ic.com/centroid.png')\n",
    "\n",
    "img1"
   ]
  },
  {
   "cell_type": "code",
   "execution_count": null,
   "id": "freelance-finland",
   "metadata": {},
   "outputs": [],
   "source": []
  },
  {
   "cell_type": "code",
   "execution_count": null,
   "id": "willing-specification",
   "metadata": {},
   "outputs": [],
   "source": []
  },
  {
   "cell_type": "markdown",
   "id": "chief-honor",
   "metadata": {},
   "source": [
    "### Supports TLS Interactions\n",
    "\n",
    "The library also supports interactions via TLS. To demo this we will interact with a Data instance in DI2E.\n",
    "Unfortunately, this is not implemented in an optimized way so initially it takes a long time when there are a lot of files in the Data instance."
   ]
  },
  {
   "cell_type": "code",
   "execution_count": null,
   "id": "fifty-alexander",
   "metadata": {},
   "outputs": [],
   "source": [
    "from importlib import reload\n",
    "reload(pygmdata)\n",
    "cert = \"/Users/dborncamp/.ssh/di2e/20200831/dave.borncamp.crt\"\n",
    "key = \"/Users/dborncamp/.ssh/di2e/20200831/dave.borncamp.key\"\n",
    "\n",
    "d1 = pygmdata.Data(\"https://mesh.greymatter.devcloud.di2e.net/services/sandbox-data/1.1\",\n",
    "                   cert=cert, key=key, repopulate=False, log_level='debug')"
   ]
  },
  {
   "cell_type": "code",
   "execution_count": null,
   "id": "increasing-trouble",
   "metadata": {},
   "outputs": [],
   "source": [
    "d1.hierarchy"
   ]
  },
  {
   "cell_type": "code",
   "execution_count": null,
   "id": "forty-brooks",
   "metadata": {},
   "outputs": [],
   "source": [
    "security={\"label\": \"DECIPHER//GMDATA\",\n",
    "       \"foreground\": \"#FFFFFF\",\n",
    "       \"background\": \"green\"}"
   ]
  },
  {
   "cell_type": "code",
   "execution_count": null,
   "id": "transsexual-postcard",
   "metadata": {},
   "outputs": [],
   "source": [
    "d1.upload_file(\"/Users/dborncamp/playpen/pygmdata/requirements.txt\", \"/home/icEMail/Test/requirements.txt\", object_policy=op, security=security)"
   ]
  },
  {
   "cell_type": "code",
   "execution_count": null,
   "id": "altered-mystery",
   "metadata": {},
   "outputs": [],
   "source": [
    "target_dir = \"/home/icEMail:justin.ely@ic.com\"\n",
    "d.get_props(target_dir)"
   ]
  },
  {
   "cell_type": "code",
   "execution_count": null,
   "id": "unauthorized-landscape",
   "metadata": {},
   "outputs": [],
   "source": [
    "d1.upload_file(\"/Users/dborncamp/playpen/pygmdata/requirements.txt\", \"/home/icEMail:justin.ely@ic.com/requirements.txt\")"
   ]
  },
  {
   "cell_type": "code",
   "execution_count": null,
   "id": "hollow-carpet",
   "metadata": {},
   "outputs": [],
   "source": []
  },
  {
   "cell_type": "code",
   "execution_count": null,
   "id": "governmental-pioneer",
   "metadata": {},
   "outputs": [],
   "source": []
  },
  {
   "cell_type": "code",
   "execution_count": null,
   "id": "fixed-marina",
   "metadata": {},
   "outputs": [],
   "source": []
  },
  {
   "cell_type": "code",
   "execution_count": null,
   "id": "north-medium",
   "metadata": {},
   "outputs": [],
   "source": []
  },
  {
   "cell_type": "code",
   "execution_count": null,
   "id": "continental-audio",
   "metadata": {},
   "outputs": [],
   "source": []
  },
  {
   "cell_type": "code",
   "execution_count": null,
   "id": "utility-proposition",
   "metadata": {},
   "outputs": [],
   "source": [
    "d.populate_hierarchy(\"/\")"
   ]
  },
  {
   "cell_type": "code",
   "execution_count": null,
   "id": "focal-overhead",
   "metadata": {},
   "outputs": [],
   "source": [
    "from importlib import reload\n",
    "reload(pygmdata)\n",
    "d = pygmdata.Data(\"http://localhost:8181\", USER_DN='CN=dave.borncamp,OU=Engineering,O=Untrusted Example,L=Baltimore,ST=MD,C=US', log_level='debug') "
   ]
  },
  {
   "cell_type": "code",
   "execution_count": null,
   "id": "afraid-payroll",
   "metadata": {},
   "outputs": [],
   "source": []
  }
 ],
 "metadata": {
  "kernelspec": {
   "display_name": "Python 3",
   "language": "python",
   "name": "python3"
  },
  "language_info": {
   "codemirror_mode": {
    "name": "ipython",
    "version": 3
   },
   "file_extension": ".py",
   "mimetype": "text/x-python",
   "name": "python",
   "nbconvert_exporter": "python",
   "pygments_lexer": "ipython3",
   "version": "3.8.6"
  }
 },
 "nbformat": 4,
 "nbformat_minor": 5
}
